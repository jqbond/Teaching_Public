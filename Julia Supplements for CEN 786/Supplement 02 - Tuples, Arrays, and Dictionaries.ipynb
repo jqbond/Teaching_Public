{
 "cells": [
  {
   "cell_type": "markdown",
   "metadata": {},
   "source": [
    "<span style=\"font-family:Times New Roman; font-size:2.0em;\">**Supplement #2**</span>\n",
    "\n",
    "In programming, particularly with data analysis, it is often either necessary or just ***really, really useful*** for us to work with collections of \"things\" instead of single, scalar values. You are probably familiar with this concept from your introductions to Matlab, which uses some specific types of collections called vectors and matrices. Julia includes support for vectors and matrices in addition to many other types of collections. As with scalars, each type of collection has unique properties that determine how we interact with them at the Julia console and the applications they can or should be used for. The main types of collections that we will use in this course are **tuples**, **arrays**, and **dictionaries**:\n",
    "\n",
    "**Tuple:** A tuple is set of \"items\" that are ordered and arranged by index, where the \"index\" refers to the numerical position of each element in the set. A tuple can include scalars (e.g., a tuple of strings or a tuple of integers), but it isn't limited to scalar contents.  That is, a tuple may contain other collections (e.g., a tuple of arrays or a tuple of tuples). Just like strings, tuples are **immutable**. Again, this means that we **cannot** change the contents of a tuple once it is defined. If you need to replace an element in that tuple, you have to redefine the tuple.\n",
    "\n",
    "In Julia, you construct a tuple using parentheses.  **For example:**\n",
    "\n",
    "    A = (1, 2, 3, 4)\n",
    "    \n",
    "creates a tuple called A that contains four integers.\n",
    "\n",
    "    B = (\"apples\", \"oranges\", \"bananas\") \n",
    "    \n",
    "creates a tuple called B that contains 3 different strings, and\n",
    "\n",
    "    C = (A, B)\n",
    "    \n",
    "Creates a tuple that includes two other tuples, A and B.  The first contains integers, and the second contains strings.  You are not constrained to a single type of scalar or even size of scalar inside of a tuple (A has 4 elements, while B has 3).\n",
    "\n",
    "Give these a try in the cell below. Use print() to display the tuples, and use typeof() to check that all are tuples."
   ]
  },
  {
   "cell_type": "code",
   "execution_count": null,
   "metadata": {},
   "outputs": [],
   "source": []
  },
  {
   "cell_type": "markdown",
   "metadata": {},
   "source": [
    "As we saw with strings, the elements of a tuple are indexed, and we can extract them by referencing their index.  For example, running:\n",
    "\n",
    "    print(B[1])\n",
    "\n",
    "will display the first element of the tuple called B, while\n",
    "\n",
    "    All_Her_Favorite_Fruit = (B[1],B[3])\n",
    "\n",
    "will create a new tuple called All_Her_Favorite_Fruit that includes apples and bananas but not oranges.\n",
    "\n",
    "A very important property of tuples is that they are immutable, so if I see that I mistakenly included bananas instead of kiwis in my list, I cannot redefine it as:\n",
    "\n",
    "    B[3] = \"kiwis\"\n",
    "\n",
    "which will produce an error.  Instead, I would have to redefine a new tuple from scratch:\n",
    "\n",
    "    B = (\"apples\", \"oranges\", \"kiwis\")\n",
    "    \n",
    "Try these out below to get a feel for how to interact with tuples in Julia.\n",
    "    "
   ]
  },
  {
   "cell_type": "code",
   "execution_count": null,
   "metadata": {},
   "outputs": [],
   "source": []
  },
  {
   "cell_type": "markdown",
   "metadata": {},
   "source": [
    "**Arrays** \n",
    "\n",
    "Arrays are **mutable**, ordered collections in which each element has a specific index. They can include any type of scalar or collection. You can *generally* perform mathematical operations directly on an array. If you are familiar with matrices and vectors in Matlab, you will use the **array** class in Julia to do everything you have done previously with vectors and matrices in Matlab. Similarly, if you are coming from Python and are familiar with lists, you'll use arrays here instead. There are no separate \"matrix\", \"vector\", or \"list\" classes in Julia.  Arrays will cover all of our bases.\n",
    "\n",
    "One of my favorite things about Julia is that, it has very good base support for matrix and vector operations through its multidimensional arrays.\n",
    "\n",
    "In Julia, we create an array very similar to the way we create a vector or a matrix in Matlab: by enclosing sets of items in brackets. The way that I separate those items determines how they are allocated into the array. First, let's cover a 1D array, which you can think of as a vector.  It is neither a row nor a column...it is a true 1 dimensional array.  You can create a 1D array in two ways.  \n",
    "\n",
    "    D1 = [0,10,20]\n",
    "    D2 = [0;10;20]\n",
    "    \n",
    "As far as I can tell, these only differ in their display output--the first will appear as a row and the second as a column--but both are just 1D vectors, whereas rows (1xn) and columns (nx1) are 2D arrays.  The above and are treated equivalently in terms of math operations.\n",
    "\n",
    "use typeof() to confirm that D1 and D2 are Arrays of integers.  Now that we are starting to work with sets, we may also be interested in knowing the size and dimensions of our array.  We can do this using size() and ndims(). \n",
    "\n",
    "    size(D1)\n",
    "    ndims(D1)\n",
    " \n",
    "These commands will tell you that D1 is a 1D array that is sized (3,).  That looks weird, but it just means it is a 1 dimensional array with three elements in it.  You'll confirm this with ndims(D1).  In contrast, if you were to run ndims(10), you'd find it is a 0 dimensional element (i.e., it is a scalar, a single point with no dimensionality). \n",
    "\n",
    "Note that in Matlab, you cannot create a 1D array of this type, but they are available in Julia."
   ]
  },
  {
   "cell_type": "code",
   "execution_count": null,
   "metadata": {},
   "outputs": [],
   "source": []
  },
  {
   "cell_type": "markdown",
   "metadata": {},
   "source": [
    "Much like a tuple, the \"items\" in an array can include any type of scalar or any type of collection. Some examples for you to try in the cell below: \n",
    "\n",
    "    G = [1, 2, 3]\n",
    "    H = [\"dog\",\"cat\",\"bat\"]\n",
    "    I = [[1.6, 2.7, 3.4], [4.4, 5.2, 6.8]]\n",
    "\n",
    "Here, G is a 1D array of integers; H is a 1D array of strings; and I is a 1D Array of 1DArrays of floating point numbers. \n",
    "\n",
    "Define these lists in the cell below. Use println() to display each array, and use typeof(), size(), and ndims() to check the properties of each array. "
   ]
  },
  {
   "cell_type": "code",
   "execution_count": null,
   "metadata": {},
   "outputs": [],
   "source": []
  },
  {
   "cell_type": "markdown",
   "metadata": {},
   "source": [
    "**Increasing Dimensionality**\n",
    "\n",
    "We need to learn how to build arrays of different sizes, shapes, and dimensionality. You can begin to create 2D arrays (rows, columns, and matrices) by using different delimiters (separators) in between elements of the array. In Julia, you separate elements in a 2D row with a space (Remember, while you may be tempted to think of a row as 1D, it is actually a 2D element in that it has one row and multiple columns).  \n",
    "\n",
    "    row1 = [1 2 3]     #A row\n",
    "\n",
    "You create a column by transposing a row vector. If it has been awhile since your last linear algebra course, transposing just exchanges rows for columns and vice versa. In Julia, a transpose has very intuitive syntax:\n",
    "\n",
    "    col1 = transpose(row1) #A column\n",
    "\n",
    "Check the size and type of each. You should see that rows and columns are 2D structures with different dimensions. By convention, when we work with matrices, we specify their size as (m x n), where \"m\" is the number of rows and \"n\" is the number of columns. Here, you should see that row1 is (1,3) and col1 is (3,1).\n",
    "\n",
    "Notice how this is different from D1 and D2, which are true 1D structures of size (3,)--i.e., they have no second dimension."
   ]
  },
  {
   "cell_type": "code",
   "execution_count": null,
   "metadata": {},
   "outputs": [],
   "source": []
  },
  {
   "cell_type": "markdown",
   "metadata": {},
   "source": [
    "**Arrays as Matrices**\n",
    "\n",
    "You can easily go to higher dimensions using arrays.  For example, if I wanted to create a 2D Matrix, I can do so by separating each column entry with a space (do not use commas for this in Julia) and each row with a semicolon (;).  This is very similar to the Matlab approach.\n",
    "\n",
    "    mat1 = [1 2; 3 4; 5 6]\n",
    "    mat2 = [col1  col1]\n",
    "    mat3 = [row1; row1]\n",
    "    \n",
    "As above, you can check the type, size, and number of dimensions using:\n",
    "\n",
    "    typeof(mat1)\n",
    "    size(mat1)\n",
    "    ndims(mat1)"
   ]
  },
  {
   "cell_type": "code",
   "execution_count": null,
   "metadata": {},
   "outputs": [],
   "source": []
  },
  {
   "cell_type": "markdown",
   "metadata": {},
   "source": [
    "**Higher Dimensions and Built in Array Generators**\n",
    "\n",
    "You can actually create Arrays with as many dimensions as you want. An easy way to do that is to use Julia functions like zeros() and ones() to pre-allocate space, and then we can fill in the entries as we see fit.  Both zeros() and ones() have the same syntax:  they will generate an array with the dimensions you specify:\n",
    "\n",
    "For example, the line below will create a column of 3 zeros.\n",
    "\n",
    "    col = zeros(3,1)\n",
    "    \n",
    "The line below will create a 5x2 matrix(5 rows by 2 columns) of ones.\n",
    "\n",
    "    mat = ones(5,2)\n",
    "    \n",
    "And the line below will create three 5x5 matrices of random numbers. \n",
    "\n",
    "    threeD = rand(5,5,3)\n",
    "    \n",
    "You can extend this concept to higher dimensions if it is useful to do so, but mostly we'll stick with 1D and 2D arrays in 786. Check the dimensions and size of each array to see how this is working."
   ]
  },
  {
   "cell_type": "code",
   "execution_count": null,
   "metadata": {},
   "outputs": [],
   "source": []
  },
  {
   "cell_type": "markdown",
   "metadata": {},
   "source": [
    "**Core Linear Algebra Functions**\n",
    "\n",
    "This is not a linear algebra course, so we will not go into details about matrix/vector/row operations; however, we need to have a working knowledge of these operations but we'll frequently use transposes. Above, we looked at transposing a row to create a column, but you can apply transposes more generally to matrices. It simply exchanges row and column positions.\n",
    "\n",
    "    mat1\n",
    "    mat1_t = transpose(mat1)"
   ]
  },
  {
   "cell_type": "code",
   "execution_count": null,
   "metadata": {},
   "outputs": [],
   "source": []
  },
  {
   "cell_type": "markdown",
   "metadata": {},
   "source": [
    "Again, Julia has really nice built in support for linear algebra.\n",
    "\n",
    "https://docs.julialang.org/en/v1/stdlib/LinearAlgebra/\n",
    "\n",
    "And there are many operators and functions we may take advantage of in this course.  Some common ones: finding the inverse, determinant, trace, eigenvalues, and eigenvectors for a matrix. **Note** only square, non-singular (i.e., the determinant is not zero) matrices are invertible.\n",
    "\n",
    "We'll need to tell Julia we're using LinearAlgebra to get full support\n",
    "\n",
    "    using LinearAlgebra\n",
    "    square_mat = [1 2 3; 9 10 16; 7 28 3] #create a square matrix\n",
    "    det(square_mat)                       #determinant; is it nonzero? Then we can invert.\n",
    "    inv(square_mat)                       #invert using inv()\n",
    "    square_mat^(-1)                       #invert using power of -1\n",
    "    tr(square_mat)                        #trace of matrix\n",
    "    eigvals(square_mat)                   #eigenvalues of matrix\n",
    "    eigvecs(square_mat)                   #eigenvectors of matrix\n",
    "   "
   ]
  },
  {
   "cell_type": "code",
   "execution_count": null,
   "metadata": {},
   "outputs": [],
   "source": []
  },
  {
   "cell_type": "markdown",
   "metadata": {},
   "source": [
    "**Mutability of Arrays**\n",
    "\n",
    "One of the most important properties of Arrays is that they are **mutable**. Again, this means that we can change the contents of a  array after it is first defined. This contrasts with tuples, which are **immutable**. \n",
    "\n",
    "What does mutability look like in practice?  Let's say I want to work with the array J.  \n",
    "\n",
    "    J = [1, 2, 3]\n",
    "\n",
    "Upon closer inspection, I realize that the second element in J should be a 4, not a 2.  With an array, I can make this change easily:\n",
    "\n",
    "    print(J)\n",
    "    J[2] = 4\n",
    "    print(J)\n",
    "\n",
    "Execute these commands in the cell below to get a feel for how lists respond to manipulation."
   ]
  },
  {
   "cell_type": "code",
   "execution_count": null,
   "metadata": {},
   "outputs": [],
   "source": []
  },
  {
   "cell_type": "markdown",
   "metadata": {},
   "source": [
    "**Built in functions to operate on Arrays**\n",
    "\n",
    "The base Julia language has a large number of useful, built in methods for manipulating an array after it is created. We will use some in a series of examples here just to introduce you to the idea that there are built in functions to do things you may be interested in doing.  Usually, when you realize you need to do an operation on an array, it is helpful to Google \"How do I ___ in Julia?\" You will be blown away by what the language can accomplish, but be prepared to parse online documentation, which is sometimes dense and computer science heavy - as you use the language more, you will get better at understanding the supporting documentation.\n",
    "\n",
    "One common example is needing to \"append\" a value to an existing array.  Append just means add the value to the end of the list.  We do that with the append!() function.  In Julia, if you see an exclamation point (!) at the end of a function name, this means that that function will modify whatever it is acting on in place.  Here's an example of how I would add the number 443 to the end of my array J:\n",
    "\n",
    "    println(J)\n",
    "    append!(J,443)\n",
    "    print(J)"
   ]
  },
  {
   "cell_type": "code",
   "execution_count": null,
   "metadata": {},
   "outputs": [],
   "source": []
  },
  {
   "cell_type": "markdown",
   "metadata": {},
   "source": [
    "**With and without in-place updating**\n",
    "\n",
    "Notice how append!() updates the entries in J automatically. Be careful with things that update in place since you may unintentionally overwrite things!\n",
    "\n",
    "In Julia, you often can choose whether or not you want in place updating with a function.  For example, if I wanted to do something like sort J, try the following bit of code and see how sort() and sort!() are different.\n",
    " \n",
    "    J = [3, 2, 1]\n",
    "    println(J)\n",
    "    println(sort(J))\n",
    "    println(J)\n",
    "    println(sort!(J))\n",
    "    println(J)\n",
    "    "
   ]
  },
  {
   "cell_type": "code",
   "execution_count": null,
   "metadata": {},
   "outputs": [],
   "source": []
  },
  {
   "cell_type": "markdown",
   "metadata": {},
   "source": [
    "Similar options exist for finding maxima and minima, etc. \n",
    "\n",
    "    maximum(J)\n",
    "    minimum(J)"
   ]
  },
  {
   "cell_type": "code",
   "execution_count": null,
   "metadata": {},
   "outputs": [],
   "source": []
  },
  {
   "cell_type": "markdown",
   "metadata": {},
   "source": [
    "Often, you may find that you need to add packages and specifically declare that you are using them to gain access to certain built in functions.  For example, mean() is part of the Statistics package.  If you want to use it, you need to state that you are using Statistics. \n",
    "\n",
    "    using Statistics\n",
    "    mean(J)\n",
    "\n",
    "This is very similar to Python.  Note that we often have to install packages first.  You can do this in the notebook, but I usually have the best luck in the command line. I'll cover adding packages when we need to add a specific package for something.\n",
    "\n",
    "There are many built in operations that Julia will do for you.  Too many for me to write up here.  Just be aware that these things exist, and be ready to Google a bit to figure out how to accomplish what you want to accomplish.  "
   ]
  },
  {
   "cell_type": "code",
   "execution_count": null,
   "metadata": {},
   "outputs": [],
   "source": []
  },
  {
   "cell_type": "markdown",
   "metadata": {},
   "source": [
    "**Indexing in arrays**\n",
    "\n",
    "OK, now lets take a closer look at indexing in Arrays.  Arrays are not constrained to a single dimension.  Each element in an Array might be a tuple or Array...and perhaps that extends for multiple levels (an Array of Arrays of Arrays). For example, let's go back to the Array I:\n",
    "\n",
    "    I = [[1.6, 2.7, 3.4], [4.4, 5.2, 6.8]]\n",
    "\n",
    "if we print out the values in the Array I, we will see that it is a 2 element Array, and each element is itself a 3 element Array:\n",
    "\n",
    "    println(I)\n",
    "    \n",
    "Let's say I want to extract the number 3.4 out of this list.  I would do so by referencing its index:  It is the 3rd element inside of the first Array; therefore, I would call its value by typing:\n",
    "\n",
    "    I[1][3]\n",
    "\n",
    "It is also possible to use more complex slicing operations (see Assignment 1) on lists to extract parts of them.  For example,\n",
    "\n",
    "    I[2][:]\n",
    "\n",
    "will return all elements in the second Array in I, and\n",
    "\n",
    "    I[1][2:3]\n",
    "    \n",
    "will return the second and third elements from the first Array in I.\n",
    "\n",
    "peform each operation and print the results to the screen to confirm your intuition and to visualize how indexing works in a more complex Array."
   ]
  },
  {
   "cell_type": "code",
   "execution_count": null,
   "metadata": {},
   "outputs": [],
   "source": []
  },
  {
   "cell_type": "markdown",
   "metadata": {},
   "source": [
    "**Indexing in High Dimensions**\n",
    "\n",
    "This is a completely generalizable concept, and it extends to all higher dimensional systems.  For example, let's create a random 4D structure:\n",
    "\n",
    "    fourD = rand(3,3,2,2)\n",
    "\n",
    "I can extract any element from any dimension that I need, e.g.:\n",
    "\n",
    "    fourD[1,2,2,1]\n",
    "    fourD[3,1,1,1]\n",
    "    \n",
    "etc."
   ]
  },
  {
   "cell_type": "code",
   "execution_count": null,
   "metadata": {},
   "outputs": [],
   "source": []
  },
  {
   "cell_type": "markdown",
   "metadata": {},
   "source": [
    "**Dictionaries**\n",
    "\n",
    "It is possible that we occasionaly need to use a **Dictionary** in Julia.  I only say so because I've had to use them in unexpected ways with Python, so it is possible here.  I doubt we'll use them much, but it is worth knowing what they are and how you create and index them.\n",
    "\n",
    "Dictionaries are different from Arrays and Tuples in that they are not ordered by index.  Instead, a dictionary has a set of name - value pairs.  You recall the value by providing the variable name.\n",
    "\n",
    "You define a dictionary using the Dict() function.  In general, it will take name,value pairs as arguments. I find the following syntax straightforward. Note that both brackets and parentheses are important here.\n",
    "\n",
    "    Dict([(name1, value1), (name2, value2), etc.]\n",
    "\n",
    "It's pretty flexible as to what you can use for names and values.  Below, I just assign a few random things to some letter strings:\n",
    "\n",
    "    Dict1 = Dict([(\"A\", 1), (\"B\", 5.75), (\"C\", \"The Real Jeffrey Lebowski\"), (\"D\", [1 2 3; 4 5 6])])\n",
    "\n",
    "You can recall the entries in a dictionary by specifying the \"name\" of the entry. For example:\n",
    "\n",
    "    Dict1[\"A\"]\n",
    "    Dict1[\"B\"]\n",
    "    Dict1[\"C\"]\n",
    "    Dict1[\"D\"]\n",
    "\n",
    "The ability to assign specfic values to a name instead of a numerical index makes dictionaries a pretty useful construct in dealing with real world data sets."
   ]
  },
  {
   "cell_type": "code",
   "execution_count": null,
   "metadata": {},
   "outputs": [],
   "source": []
  },
  {
   "cell_type": "markdown",
   "metadata": {},
   "source": [
    "**Creating Arrays using Comprehensions**\n",
    "\n",
    "A final tool that is worth demonstrating (but that has some underlying complexity that we haven't covered yet) is a comprehension.  Before we cover a comprehension, though, I want to introduce the range() function.  You'll use this similar to the way you have used linspace in Matlab.  It simply creates a set of numbers that obey some property you want.  range() uses keyword arguments to specify those properties. For example, to create a set of 10 numbers from 1 to 10:\n",
    "\n",
    "    numbers = range(1, stop = 10, length = 10)\n",
    "\n",
    "Or a list from 2 to 20 in steps of two:\n",
    "\n",
    "    evens = range(2, stop = 20, step = 2)\n",
    "\n",
    "range() is a useful basis that we can use to create large and complicates sets of numbers.  For example, let's say you want to create an array of the squares of all of the numbers between 1 and 745.  That's hard to do manually. It is even cumbersome in something like Excel.  In a programming language, we might use a **for loop** to do this.  We will cover **for loops** in more detail later, but a comprehension provides a shorthand syntax that  automates a **for loop** to generate an array from a desired operation in a single, simple line of code.  For our example above, I would create this array by typing:\n",
    "\n",
    "    squares = [x^2 for x in range(1, stop = 745, step = 1)]\n",
    "\n",
    "We will get into more specifics about the range function and for loops in a subsequent exercise.  Although the syntax above may look strange, all it is doing is an element-wise squaring of every number between 1 and 745, i.e.,\n",
    "\n",
    "    1^2\n",
    "    2^2\n",
    "    3^2\n",
    "    4^2....\n",
    "    \n",
    "And so forth all the way up to\n",
    "\n",
    "    745^2\n",
    "\n",
    "\n",
    "Create this Array in the cell below; print both the Array and the square root of the last element using the command below to see if it behaved as we expect\n",
    "\n",
    "    print(squares[end]^(1/2))"
   ]
  },
  {
   "cell_type": "code",
   "execution_count": null,
   "metadata": {},
   "outputs": [],
   "source": []
  },
  {
   "cell_type": "markdown",
   "metadata": {},
   "source": [
    "Comprehensions are extremely useful; they can quickly generate large arrays by automating any simple operation on a range.  Create and print the arrays below to see the outputs they create and get a feel for how comprehensions work:\n",
    "\n",
    "    K = [n for n in range(0, stop = 31)] #if not specified step defaults to step = 1\n",
    "    L = [x for x in range(0, stop = 31, step = 2)]\n",
    "    M = [p^3 for p in range(0, stop = 31, step = 5)]\n",
    "    N = [2, 14, 64, 212, 123.6, 4.57 + 3im]\n",
    "    O = [j^2 for j in N]\n",
    "    \n",
    "In the last example, notice how we used an existing array to create the iterable that the comprehension iterates over.  This is totally acceptable - it is a nice way to perform a simple operation on the values in one array to convert it into something else entirely."
   ]
  },
  {
   "cell_type": "code",
   "execution_count": null,
   "metadata": {},
   "outputs": [],
   "source": []
  }
 ],
 "metadata": {
  "kernelspec": {
   "display_name": "Julia 1.5.3",
   "language": "julia",
   "name": "julia-1.5"
  },
  "language_info": {
   "file_extension": ".jl",
   "mimetype": "application/julia",
   "name": "julia",
   "version": "1.5.3"
  }
 },
 "nbformat": 4,
 "nbformat_minor": 4
}

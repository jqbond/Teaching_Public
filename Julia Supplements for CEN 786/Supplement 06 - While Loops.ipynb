{
 "cells": [
  {
   "cell_type": "markdown",
   "metadata": {},
   "source": [
    "## While Loops\n",
    "\n",
    "We just completed an exercise about **for loops**, so we should have a good feel for how they work. The main feature of a for loop is that it will iterate over all of the elements in a pre-defined set or range. A **while loop** is fundamentally different from a for loop in that it continues to loop through iterations as long as the criteria specified in the conditional statement at the start of the while loop remains true. This opens up some new possibilities in how we use them.\n",
    "\n",
    "Before we get to some while loop-specific action, a good way to highlight the difference between a for loop and a while loop is to use them to do the exact same thing.\n",
    "\n",
    "We will use a for loop to print all of the integers from 1 to 11 (without first creating that list of integers manually).  We will not store those integers, we will just print their values to indicate passes through the for loop.\n",
    "\n",
    "    for i = 1:11\n",
    "        println(i)\n",
    "    end"
   ]
  },
  {
   "cell_type": "code",
   "execution_count": null,
   "metadata": {},
   "outputs": [],
   "source": []
  },
  {
   "cell_type": "markdown",
   "metadata": {},
   "source": [
    "Now the same with a while loop. We will initiate the while loop by defining n as the first integer we are interested in printing (1) and then increment the value of n until I reach an integer value of 11: \n",
    "\n",
    "    n = 1;\n",
    "    while n < 12\n",
    "        println(n)\n",
    "        n = n + 1;\n",
    "    end\n",
    "\n",
    "Just like a for loop, a while loop starts with a keyword, **while** in this case. After the keyword, we have to specify what criteria we want to use to make a decision about the range that we iterate over.  In this case, I want to continue iterations until I reach the integer 11. While statements are a type of conditional statement; they tell the program to execute the commands inside of the loop as long as certain criteria are met. We set these criteria using statements involving comparison operators: greater than (>), less than (<), equal to (==), greater than or equal to (>=), less than or equal to (<=), and not equal to (!=). Optionally, they may be combined with logical operators (&, |, ~)--these mean (and, or, not)--if we need to satisfy multiple criteria to continue executing the while loop. Those conditional statements are covered in more detail in Supplement 07.\n",
    "\n",
    "Here, I've chosen to run iterations as long as n < 12. We initialize the loop by defining n = 1. At the start, n = 1, so when the interpreter hits the comparison in the while statement, it finds that the criteria that n < 12 is true. It then continues into the while loop and executes the commands in the body of the loop. The value of n (1) is printed to the screen, and then we add 1 to the value of n and return to the start of the loop. Now n = 2, which is still less than 12, so things continue and repeat in the same way until it gets to n = 11.  Since 11 < 12, it makes another pass through the loop, prints 11 to the screen, and then updates the value of n one last time.  Here, it calculates that n = 12, so n < 12 is no longer satisfied, and the loop does not proceed through the next iteration. \n",
    "\n",
    "Just like for loops and functions, I have to end a while loop explicitly with an **end** keyword."
   ]
  },
  {
   "cell_type": "code",
   "execution_count": null,
   "metadata": {},
   "outputs": [],
   "source": []
  },
  {
   "cell_type": "markdown",
   "metadata": {},
   "source": [
    "Now, some useful shorthand. **For loops** always iterate automatically over the range we specify at the start, so we don't control the value of the iterator once we have defined the set to iterate over. With a **while loop**, we frequently update the value the quantity used to establish the while loop criteria on each pass. In the above example, we wanted to add 1 to our counter on every pass, and I include that in the loop by writing:\n",
    "\n",
    "    n = n + 1\n",
    "    \n",
    "It looks strange to define n as an implicit function of itself, but in a programming language, this syntax evaluates the right hand side using the current value of n, and then it over-writes the current value of n with whatever the right hand side evaluates to. For example, in our first pass through the above loop, n = 1. Then we hit the increment step, and we say n = n + 1, which is evaluated as n = 1 + 1, so n is redefined as 2 at the end of the first pass. At the end of the second pass, when we hit the increment, the current state is n = 2, so we evaluate n = 2 + 1, and n is redefined as 3.  This continues until our counter reaches whatever threshold we specify.\n",
    "\n",
    "On to the shorthand:\n",
    "\n",
    "We write increments like this so frequently, there are a number of ways we can specify them with shorthand.  For example, \n",
    "\n",
    "    n = n + 1\n",
    "\n",
    "Can be expressed as\n",
    "\n",
    "    n += 1\n",
    "\n",
    "And\n",
    "\n",
    "    x = x*5\n",
    "    \n",
    "Can be written as\n",
    "\n",
    "    x *= 5\n",
    "    \n",
    "You could even write:\n",
    "\n",
    "    n *= n\n",
    "    \n",
    "To update the current value of i by multiplying it by itself, i.e., you square i (though you may not want to start this one out with i = 1; otherwise, you'll get stuck in the loop since you never reach n = 12).\n",
    "    \n",
    "Try out a few of these different assignment operators to see how they change the behavior of your while loop in the cell below."
   ]
  },
  {
   "cell_type": "code",
   "execution_count": null,
   "metadata": {},
   "outputs": [],
   "source": []
  },
  {
   "cell_type": "markdown",
   "metadata": {},
   "source": [
    "For and while loops have different architectures and logical structures, which makes them suited to different tasks. For example, if I measured 100 discrete data points, and I wanted to perform operations on all of them, then a for loop makes sense because I'm working with an existing set. If, on the other hand, I have an application that requires me to repeat an iteration until I cross some specific threshold, then I would choose a while loop. While loops really shine when I don't have a great idea about how many iterations my loop will take, I just know that I have a conditions that needs to remain true or I have some idea of what the endpoint needs to be.\n",
    "\n",
    "We'll cover an example below."
   ]
  },
  {
   "cell_type": "code",
   "execution_count": null,
   "metadata": {},
   "outputs": [],
   "source": []
  },
  {
   "cell_type": "markdown",
   "metadata": {},
   "source": [
    "One thing that comes to mind with while loops is using them to solve problems where we have some convergence threshold on our answer. We'll work through a few totally random examples of engineering-type problems that you could handle by applying convergence thresholds in a while loop.\n",
    "\n",
    "**Example 1: A Brute Force Iterative Solution to an Algebraic Equation**\n",
    "\n",
    "In later supplements, we'll cover *efficient* ways to solve an algebraic equation using an iterative approach.  For now, we will use an *inefficient* approach just to demonstrate what a while loop can do, and to introduce you to the idea of a tolerance on your solution. \n",
    "\n",
    "We have a function, y = 5*x<sup>2</sup> + 8*x - 23. We would like to find the **roots** for that function.  By that, I mean the values of x where y = 0.  We can do this in a number of ways; for this particular problem, the quadratic formula is a good choice, and it tells us that y = 0 when:\n",
    "\n",
    "    x = 1.489 \n",
    "\n",
    "or\n",
    "\n",
    "    x = -3.089\n",
    "    \n",
    "But let's pretend we do not know a solution method like factoring or the quadratic formula.  We might revert to an iterative method like guess-and-check.  This is simple, but tedious.  The idea is that we guess a value of x, evaluate the function, and check the value of y. If the value of y is not equal to zero, then we update the value of x and try again.  In general, we will make informed guesses or use an efficient algorithm like Newton-Raphson, but for now, let's just use a while loop. Before we do that, it's a good idea to graph the function and see if we can find approximate root locations; these are values where y(x) = 0.  Let's graph this using an anonymous function - these inline examples are great uses for anonymous functions.\n",
    "\n",
    "    using Plots\n",
    "    xplot = range(-10, stop = 10, length = 100)\n",
    "    yfunc = x -> (5*x.^2 + 8*x .- 23)\n",
    "    plot(xplot,yfunc(xplot))\n",
    "    hline!([0], linecolor = :black)"
   ]
  },
  {
   "cell_type": "code",
   "execution_count": null,
   "metadata": {},
   "outputs": [],
   "source": []
  },
  {
   "cell_type": "markdown",
   "metadata": {},
   "source": [
    "Now let's see if we can find a root with a while loop.\n",
    "\n",
    "The first thing to decide is what is our tolerance on that solution, in other words, we are iterating to find the value of x where y = 0....but what exactly are we ready to accept as \"equal to zero.\"  2 decimal places?  8 decimal places?  This is our tolerance on the solution. Since we are using a very crude approach, we will set a loose tolerance and say that we will be satified if we can find the value of x where y is between -0.1 and 0.1. A simple way to do this is with the abs() function in Octave, which returns the absolute value of a number.  We can set this tolerance by saying we want to continue looking for the solution as long as abs(y) > 0.1. For our purposes, we'll call that \"close enough\" to zero that we've found a solution.  Also,  we graphed this function, and it tells us that there is a root between -10 and 0, and another root between 0 and 10.  We will look for the positive root here. \n",
    "\n",
    "    x = 0.0;                  #we need an initial guess for x\n",
    "    y = -23.0;                #This is y at x = 0. We have to set an initial value for y\n",
    "    while abs(y) > 0.1        #If abs(y) is greater than 0.1, we aren't close enough.  Keep going. \n",
    "        y = 5*x^2 + 8*x - 23; #calculate the value of y at current x\n",
    "        println([x,y])        #Print result of iteration to see how loop is progressing\n",
    "        x += 0.01;            #increment x by 0.01 units.\n",
    "    end\n",
    "    \n",
    "**Caution**: we have to be careful with this type of iteration.  The tolerance we set may require us to take smaller and smaller steps with x, otherwise we can jump right over the solution and the loop will continue infinitely.  For an example of this, try changing your tolerance to 0.01 without changing your step size in x and see what happens and why.  If you need to break the loop execution (you see [\\*] to the left of the cell indefinitely), you can do so by restarting the kernel.\n",
    "\n",
    "Now that you've mastered iterative root finding, adapt your script to find the negative root."
   ]
  },
  {
   "cell_type": "code",
   "execution_count": null,
   "metadata": {},
   "outputs": [],
   "source": []
  },
  {
   "cell_type": "markdown",
   "metadata": {},
   "source": [
    "As engineers, we are frequently interested in processes that are operating at steady state.  This means that conditions for that process - temperatures, concentrations, pressures, etc. - are not changing as a function of time. But it is unusual for a process to *start* at steady state.  Let's look at how long it takes for your body to reach steady state on a run!  \n",
    "\n",
    "**Example 2: Steady state suffering**\n",
    "\n",
    "Imagine you go out for a run.  You start out at what you feel is a decent running pace. For the first few minutes, you feel pretty good. Your heart rate is low, your breathing rate is low, you aren't really perspiring very much...and that all lasts for awhile. Then everything starts to catch up to your effort.  Your pulse increases, you are breathing more rapidly, you are beginning to perspire.  You can hang in there, you just feel like you're working now. You keep your pace/effort steady. Now, you're 20 minutes in. You're flushed, you're gasping for breath, and you are certain that death is just around the corner. You somehow keep going...keeping both your pace and your level of suffering right about constant.  \n",
    "\n",
    "Now you've arrived at what it feels like to run at that pace - *that is steady state*. Your work output, breathing, and metabolism are all in balance and nothing is changing as a function of time (as long as you keep your effort steady). Surely you've seen this - it takes some time for the level of pain to catch up to your level of effort, but eventually everything settles in. \n",
    "\n",
    "Anytime you make a perturbation to a system (in this case, the perturbation is you getting off the couch and starting to run), it takes time for the system to reach steady state. One way that we watch the approach to steady state is to monitor a variable that responds to perturbation as a function of time. In the running example, we could look at your heart rate, blood lactate concentration, or respiration rate.  Eventually, they will reach steady state, and we can roughly figure out how long it took to get there.  Let's look at that approach to steady state in blood lactate levels.\n",
    "\n",
    "Let's assume your blood lactate obeys the following model:\n",
    "\n",
    "    Lactate = Lactate_SS + (Lactate_0 - Lactate_SS)exp(-k*t)\n",
    "\n",
    "Here, Lactate is your blood lactate concentration in millimoles per liter (mM) at a given time since you started running. Lactate_SS is the steady state blood lactate concentration at your current, near-death exertion level when running at a steady pace, and Lacate_0 is your blood lactate concentration at your more comfortable, sitting on the couch level when you started this run.\n",
    "\n",
    "Let's say for simplicity Lactate_0 = 0.75 mM, Lactate_SS = 12 mM, and k is a time constant that specifies the time scales over which your blood lactate concentration responds to your change in effort from couch to 10K.\n",
    "\n",
    "We can use a while loop to determine how long it takes for you to reach peak, steady state suffering.  How will I determine when I'm at steady state?  I will set an absolute error tolerance of 0.01. Once I get within 0.01 mM of my known steady state lactate concentration(12 mM), I will say that I have reached steady state. This bit of code then prints out the time needed to hit steady state and also plots blood lactate as a function of time. It works by initializing time, tolerance, and your lactate level, and then it updates all of them on each pass of the loop.  Here, we increment time by a single minute with every step; you may need to adjust that step size depending on the time scale of your process.  You may question why I picked a starting tolerance of 100.  I can pick anything as long as it is larger than my threshold tolerance.  I just need something bigger than 0.01 so that I can start the loop. \n",
    "\n",
    "    L_SS = 12;    %mM\n",
    "    L_0  = 0.75;  %mM\n",
    "    k    = 0.286; %1/min\n",
    "    Lactate = [];\n",
    "    Tolerance = 100;\n",
    "    t    = 0; %min\n",
    "    step = 1; %min\n",
    "\n",
    "    while Tolerance > 0.01\n",
    "        current = (L_SS + (L_0 - L_SS)*exp(-k*t));\n",
    "        Lactate = [Lactate;current]; %append current value of lactate concentration to Lactate\n",
    "        Tolerance = abs(Lactate(end) - L_SS);\n",
    "        t += step;\n",
    "    end\n",
    "\n",
    "    t = t - 1; %removing the last time step since it didn't update Lactate\n",
    "    time = [0:step:t]; %create times from 0 to final using step size\n",
    "    [t, Lactate(end)]\n",
    "    plot(time,Lactate)\n",
    "    \n",
    "It looks like it takes about 25 minutes to reach a steady state blood lactate concentration."
   ]
  },
  {
   "cell_type": "code",
   "execution_count": null,
   "metadata": {},
   "outputs": [],
   "source": []
  }
 ],
 "metadata": {
  "kernelspec": {
   "display_name": "Julia 1.5.3",
   "language": "julia",
   "name": "julia-1.5"
  },
  "language_info": {
   "file_extension": ".jl",
   "mimetype": "application/julia",
   "name": "julia",
   "version": "1.5.3"
  }
 },
 "nbformat": 4,
 "nbformat_minor": 4
}

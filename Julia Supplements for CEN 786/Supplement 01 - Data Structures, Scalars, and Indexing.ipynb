{
 "cells": [
  {
   "cell_type": "markdown",
   "metadata": {},
   "source": [
    "<span style=\"font-family:Times New Roman; font-size:2.0em;\">**Supplement #1**</span>\n",
    "\n",
    "The following exercises are intended to build familiarity and confidence with Julia basics. We will start by learning about, creating, and manipulating various data types and data structures.\n",
    "\n",
    "Chances are, you haven't learned Julia before.  If not, and especially if you are coming from either a Matlab or a Python background, you will find the cheatsheat below very useful.\n",
    "\n",
    "<a href=\"https://cheatsheets.quantecon.org/\">A Matlab-Python-Julia Cheat Sheet</a>\n",
    "\n",
    "Another thing you'll probably want to use is help.  If you ever want help with a Julia command, enter:\n",
    "\n",
    "    ?command_name\n",
    "\n",
    "In a code block.  This will bring up the documentation in your Notebook.\n",
    "\n",
    "For example, to see the documentation for the range() function, you'd just type:\n",
    "\n",
    "    ?range\n",
    "    \n",
    "And execute the cell by clicking run or pressing Ctrl-Enter in the cell."
   ]
  },
  {
   "cell_type": "code",
   "execution_count": null,
   "metadata": {},
   "outputs": [
    {
     "name": "stderr",
     "output_type": "stream",
     "text": [
      "┌ Info: Precompiling DifferentialEquations [0c46a032-eb83-5123-abaf-570d42b7fbaa]\n",
      "└ @ Base loading.jl:1278\n"
     ]
    }
   ],
   "source": [
    "using DifferentialEquations"
   ]
  },
  {
   "cell_type": "markdown",
   "metadata": {},
   "source": [
    "\n",
    "**Background Reading: Scalars vs. Collections**\n",
    "\n",
    "Julia supports various Data Types and Data Structures. These exercises will demonstrate usage for the most common ones in this course. It is first important to understand the difference between a **scalar** and a **collection**. In simple terms, a *scalar* refers to a something that has one and only one value associated with it, whereas a *collection* refers to a set that contains multiple items. If you are familiar with an array or a matrix in Matlab, these are examples of collections, both of which are supported in Julia. Often the contents of a collection are scalars, but this is not always the case. Julia is extremely versatile, and a \"collection\" can even be a set of other collections!  It might not be obvious now why this would be useful, but we will take advantage of this in working with large data sets.\n",
    "\n",
    "**Scalars**\n",
    "\n",
    "First, scalars. Think of these as variables that have a single value. Although your mind probably immediately jumps to a single number as an example of a scalar (which it is), scalars in Julia are not necessarily numbers. In Julia, there are many types (classes) of scalars that we will need to be familiar with:\n",
    "\t\n",
    "* **int64** refers to an \"integer,\" which is a whole number. **Examples:** 1, 7, 452. Technically this is a 64-bit allocation.  It is usually going to be our default, but if you need to, you can specify, 8-bit, 16-bit, 32-bit, or 128-bit using Int8, Int16, Int32, Int128 declarations. We probably won't need to do this at all during 786.\n",
    "* **float64** refers to a 64-bit double precision floating point decimal.  **Examples:** 2.0, 6.75, 100.3.  Again, this will be our usual default for floating point approximations, but you can select float 16 (half precision), float32 (single precision), or float64 (double precision).\n",
    "* **complex** refers to a number that has an imaginary part. **Example:** 4.2 + 6i. Note that in Julia, an \"im\" is used instead of an \"i\" for imaginary numbers.\n",
    "* **bool** A logical Boolean value. It is binary - either True or False. In most languages, including Julia, True = 1, False = 0. Julia also recognizes explicit declarations of \"true\" and \"false\"\n",
    "* **str** A \"string\" of characters.  These are typically declared in Julia using double quotes. **Examples** \"Cat\", \"Iz Doggo?\", '''Iz Sluggo?''' are strings. \n",
    "\n",
    "In general, one defines a scalar quantity by making a declaration using an equal sign, i.e., X = 5. \n",
    "\t\n",
    "Now it is time for an **Example**. These are embedded throughout this worksheet.  We will provide a prompt that describes how to type relevant commands in Julia syntax, but to complete the worksheet, you will need to ***type*** the relevant snippets of code into the cell. Can you be lazy and copy/paste the code? Sure, but there is something about typing code that helps you get a feel for layout and how the language is written. So if you really want to master the language, *type the code*. This will give you time to really think about what you are doing and why. \n",
    "\n",
    "Assign the following values to variables A - E by entering them exactly as they are written in the following cell:\n",
    "\t\n",
    "    A = 1\n",
    "    B = 7.0\n",
    "    C = 5.6 + 2im \n",
    "    D = true \n",
    "    E = \"Obviously, you're not a golfer.\"\n",
    "\n",
    "Again, we have ensured that the commands are correct as written above, so type them *exactly* as they are given and then click the Run button to execute the code. "
   ]
  },
  {
   "cell_type": "code",
   "execution_count": null,
   "metadata": {},
   "outputs": [],
   "source": []
  },
  {
   "cell_type": "markdown",
   "metadata": {},
   "source": [
    "You will notice that only the last command executed will print to the screen - in general, this is the Julia default. If you really want to view the value of a variable after it is declared, you should get into the habit of using the **print()** function, which is built into the Julia base. print() is really just for displaying the value of a variable. Its usage is very simple, for example:\n",
    "\n",
    "    print(A) \n",
    "    print(B)\n",
    "\n",
    "will display the values of A and B in your Python Console.  Try it in the cell below for all of the variables you have just defined (and again execute the code)."
   ]
  },
  {
   "cell_type": "code",
   "execution_count": null,
   "metadata": {},
   "outputs": [],
   "source": []
  },
  {
   "cell_type": "markdown",
   "metadata": {},
   "source": [
    "You probably noticed that print alone does not start a new line.  It will stack all of your variables together as if they are a string.  If you want to start a new line, you can do it in two ways.  The first is using a new line character \"\\n\"\n",
    "\n",
    "    print(A, \"\\n\")\n",
    "    \n",
    "The second is with the println() function.\n",
    "\n",
    "    println(A)"
   ]
  },
  {
   "cell_type": "code",
   "execution_count": null,
   "metadata": {},
   "outputs": [],
   "source": []
  },
  {
   "cell_type": "markdown",
   "metadata": {},
   "source": [
    "In Julia, you can use the built in **typeof()** function called to determine a variable's class. For this purpose, its usage is simple.  Entering \n",
    "\n",
    "    typeof(A) \n",
    "    \n",
    "in a code cell will confirm that A is an integer.  \n",
    "\t\n",
    "Use the typeof() function on the variables you've defined to determine the class for each; you should see the following results for A through E: **int64, float64, complex, bool, and str**.\n",
    "\n",
    "**Remember** if you want to make sure a value is displayed, you will need to use the print function; otherwise, a series of typeof() commands will return the value of the last one only.\n"
   ]
  },
  {
   "cell_type": "code",
   "execution_count": null,
   "metadata": {},
   "outputs": [],
   "source": []
  },
  {
   "cell_type": "markdown",
   "metadata": {},
   "source": [
    "Sometimes, it is useful to see a summary of everything that is accessible in your workspace.  This includes any variables, functions, or modules that you are using during your session.  In Matlab and Python, you'd use some version of *whos* to do this.  In Julia, the alternative is varinfo()\n",
    "\n",
    "    varinfo()"
   ]
  },
  {
   "cell_type": "code",
   "execution_count": null,
   "metadata": {},
   "outputs": [],
   "source": []
  },
  {
   "cell_type": "markdown",
   "metadata": {},
   "source": [
    "Now that we have variables defined, we can use them in all of our typical operations within the Julia language.  There are probably an infinite number of ways that you might use a variable once it is defined, but some of the most basic would be simple calculations. Math operations (at least in the way that you are familiar with them), can be performed as expected on integers, floats, or complex numbers. If you perform a math operation on a Boolean value, it will be treated as either 0 (False) or 1 (True) for the purpose of that operation.  Math operations are not directly applicable to strings - instead, they generally will either throw an error or **concatenate** strings. We will cover concatenation later in the worksheet.  \n",
    "\n",
    "Some basic operators that you are familiar with will work directly; these include +, -, \\*, and /. In Julia, one can perform math operations on numbers of different types, so there is no issue with multiplying an integer by a float, dividing a complex number by an integer, or even adding a Boolean to a float. This is not true by default, so it is good to be aware of what types of operations are permissible on what types of scalars.\n",
    "\n",
    "In the cell below, try:\n",
    "\n",
    "     println(A + 1)\n",
    "     println(A + B)\n",
    "     println(C - A)\n",
    "     println(A/B)\n",
    "     println(A*C)\n",
    "     \n",
    "These should all behave as you expect. Next, we will do some math on a Boolean value of True:\n",
    "\n",
    "     print(B+D)\n",
    "\n",
    "You will see that the value of True stored in D is treated as a 1 for the purpose of the math operation.\n",
    "\n",
    "And finally, if you attempt to do any sort of basic math operations on a string, you'll most likely get an error in Julia (this is different from Python's behavior):\n",
    "\n",
    "     print(E + E)\n",
    "     print(3*E)\n",
    "     \n",
    "In Python, these specific commands would work, but they would give you concatenation of those strings (combining strings). Julia useas a specific syntax for concatenation; we won't use it much in the course, but I'll introduce it in this module since it is generally a useful skill to be able to concatenate strings in a programming language."
   ]
  },
  {
   "cell_type": "code",
   "execution_count": null,
   "metadata": {},
   "outputs": [],
   "source": []
  },
  {
   "cell_type": "markdown",
   "metadata": {},
   "source": [
    "There are a few more math functions and operators that you may be less familiar with, but that are often useful in programming.  Here, we'll cover div(), //, and %.\n",
    "\n",
    "**div()** is an integer (floor) division.  It returns the integer quotient (rounded down; hence \"floor\") result from long division.\n",
    "\n",
    "**//** will define a fraction.\n",
    "\n",
    "**%** is the modulus operator.  It returns the remainder resulting from long division.\n",
    "\n",
    "Try these examples to see what the floor division and modulus operators return.\n",
    "\n",
    "    println(div(10,3))\n",
    "    println(10//3)\n",
    "    println(10%3)"
   ]
  },
  {
   "cell_type": "code",
   "execution_count": null,
   "metadata": {},
   "outputs": [],
   "source": []
  },
  {
   "cell_type": "markdown",
   "metadata": {},
   "source": [
    "**Some notes about strings** \n",
    "\n",
    "Within the various types of scalars, strings some unique properties: one is that their characters are indexed by their position in the string. I addition, once defined, a string is what we call **immutable**, which means we cannot alter the contents of that string; however, we can extract the components of the string using their indices. For an example of how this works,  I will define a variable called animal that will be the string 'dog'\n",
    "\n",
    "    animal = \"dog\"\n",
    "\n",
    "In Julia, indexing starts at 1, ao the first character in the string **animal** would be extracted by typing:\n",
    "\n",
    "    animal[1]\n",
    "\n",
    "Similarly, the 2nd and 3rd elements of **animal** would be called by typing:\n",
    "\n",
    "    animal[2]\n",
    "    animal[3]\n",
    "\n",
    "Try printing each character individually in the cell below, i.e., type:\n",
    "\n",
    "    println(animal[1])\n",
    "    println(animal[2])\n",
    "    println(animal[3])\n",
    "\n",
    "You also have the option of providing multiple arguments to the print function.  If written as above, D, o, and g will be displayed on different lines.  If I wanted to instead return each character on a single line, I could do so by typing:\n",
    "\n",
    "    print(animal[1], animal[2], animal[3])"
   ]
  },
  {
   "cell_type": "code",
   "execution_count": null,
   "metadata": {},
   "outputs": [],
   "source": []
  },
  {
   "cell_type": "markdown",
   "metadata": {},
   "source": [
    "When things are indexed, like strings, you can easily determine the total number of elements or characters in that item using the **length()** function; for example:\n",
    "\n",
    "    length(animal)\n",
    "\n",
    "Will confirm that there are 3 characters in 'dog.'"
   ]
  },
  {
   "cell_type": "code",
   "execution_count": null,
   "metadata": {},
   "outputs": [],
   "source": []
  },
  {
   "cell_type": "markdown",
   "metadata": {},
   "source": [
    "You are not restricted to extracting a single element of a string at a time.  You can easily access multiple elements from a string by specifying a range with the colon operator.  For example:\n",
    "\n",
    "    animal[1:2]\n",
    "\n",
    "says 'extract the first and second elements from **animal**, i.e., this will extract 'do' from 'dog'. Unlike Python, slicing in Julia this way includes the final element in your index range. If you wanted to extract 'dog' in this example, you would need to type:\n",
    "\n",
    "    animal[1:3]\n",
    "\n",
    "or, alternatively--indexing will recognize the \"end\" keyword as the final element in an indexed group:\n",
    "\n",
    "    animal[1:end]\n",
    "    animal[2:end]\n",
    "\n",
    "Try it out below to get a feel for range specifications in Julia! Remember: if you want to see the results of multiple character extractions in a single cell, you will need to use the println() function."
   ]
  },
  {
   "cell_type": "code",
   "execution_count": null,
   "metadata": {},
   "outputs": [],
   "source": []
  },
  {
   "cell_type": "markdown",
   "metadata": {},
   "source": [
    "Using index operations like this to extract parts of a string is called \"slicing.\" We do **a lot** of it when processing both strings and other collections of data. \n",
    "\n",
    "Finally, an example of **concatenation**. Loosely, concatenation means to combine multiple *things* to form a new single *thing* that is comprised of those parts. I can **concatenate** strings and parts of strings very easily in Julia using specific operators or functions. - the most straightforward way is using the * operator.  For example, I could rearrange the letters in dog to create a new string called **nonsense** by typing\n",
    "\n",
    "    nonsense = animal[2]*animal[1]*animal[3]\n",
    "\n",
    "And I could make something completely new by concatenating 'dog' with a comma string, a period string, and part of the above quote from a Cohen brothers movie:\n",
    "\n",
    "    original_port_huron_statement = E[11:30]*\", \"*animal*\".\"\n",
    "    \n",
    "Define and print the strings in nonsense and port_huron_statement in the cell below."
   ]
  },
  {
   "cell_type": "code",
   "execution_count": null,
   "metadata": {},
   "outputs": [],
   "source": []
  },
  {
   "cell_type": "markdown",
   "metadata": {},
   "source": [
    "If you ever needed to duplicate a string, you could do so with the ^ operator; however, you have to recall that this is a concatenation of a string.  Using a floating point number here is not permissible because it is unclear what, e.g., dog^(0.75) (which, literally, is evaluated as duplicate \"dog\" 0.75 times) *is* exactly, whereas we can provide a logical output for \"dog\"^3 (repeat \"dog 3 times\"). Print the results for the operations below and consider why they behave as they do.\n",
    "\n",
    "    echo = animal^5\n",
    "    moar_echo = (animal*E)^5\n",
    "    error = animal^5.0"
   ]
  },
  {
   "cell_type": "code",
   "execution_count": null,
   "metadata": {},
   "outputs": [],
   "source": []
  },
  {
   "cell_type": "markdown",
   "metadata": {},
   "source": [
    "One final note:  strings are the only type of scalar that is indexed this way.  If I were to define an integer:\n",
    "\n",
    "    F = 12345\n",
    "\n",
    "I ***cannot*** retrieve its individual elements by typing \n",
    "\n",
    "    F[2] \n",
    "    F[3]\n",
    "    F[4]\n",
    "\n",
    "Since a scalar is a single element, asking for the 2nd or 3rd elements does not make any sense, so doing this will return an error. **Strings are the only type of scalar that we can slice via indexing.** It is good to know what different types of errors look like in Julia, so give it a try with an integer below!!!"
   ]
  },
  {
   "cell_type": "code",
   "execution_count": null,
   "metadata": {},
   "outputs": [],
   "source": []
  }
 ],
 "metadata": {
  "kernelspec": {
   "display_name": "Julia 1.6.2",
   "language": "julia",
   "name": "julia-1.6"
  },
  "language_info": {
   "file_extension": ".jl",
   "mimetype": "application/julia",
   "name": "julia",
   "version": "1.6.2"
  }
 },
 "nbformat": 4,
 "nbformat_minor": 4
}

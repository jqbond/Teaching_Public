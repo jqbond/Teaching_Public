{
 "cells": [
  {
   "cell_type": "markdown",
   "metadata": {},
   "source": [
    "# Functions\n",
    "\n",
    "Functions are some of the most useful objects in any high level programming language, and Julia is no exception!  In very basic terms, a **function** accepts inputs (we often call these arguments as well), performs operations on them, and returns outputs.  The classic idea we all have of a function is something like y is a function of x for example,\n",
    "\n",
    "$$y(x) = 2x + 5$$\n",
    "\n",
    "This is a simple *univariate scalar* function. We call it univariate because it has only one argument (x).  We call it scalar because it returns a single output (y). But we will see in a moment that functions are far more general and flexible. In Julia, we follow a few important rules to define a function. To start, you declare a function with the **function** keyword, and you always use the following syntax:\n",
    "\n",
    "    function function_name(inputs)\n",
    "        <function body>\n",
    "    end\n",
    "\n",
    "Where \"function_name\" can be anything you want it to be, and \"inputs\" can be zero, one, or more inputs that you will provide to the function in order for it to perform its operations. Of the parts you see here, the only things that are non negotiable in a function definition are the function keyword, the function name and the end keywork; otherwise, you have a lot of flexibility in how you construct a function. \n",
    "\n",
    "**It is important to know**:  if you want a function to accept an input from you, you have to specify which inputs you will give it.  Conversely, if you want it to return an output, you will, in general, need to  tell it which outputs to return.\n",
    "\n",
    "In Julia, a very basic way to write our simple linear is this:\n",
    "\n",
    "    function y(x)\n",
    "        2*x + 5      #Indent is optional; I just include to help me see the function\n",
    "    end\n",
    "\n",
    "Type this bit of code in the cell below.  It will create a function called 'y' that accepts an input, which is called 'x' locally inside of the function, and it returns the value of $2x+5$ as an output."
   ]
  },
  {
   "cell_type": "code",
   "execution_count": null,
   "metadata": {},
   "outputs": [],
   "source": []
  },
  {
   "cell_type": "markdown",
   "metadata": {},
   "source": [
    "Let's get used to thinking through how a piece of code will work - you really cannot learn to program until you understand how code is executed, so this is good practice. In this example, any time I want to evaluate the answer for y(x), I give a value of x to the function, i.e., I provide the necessary **input** to my function. The function then computes the \"result\" for that value of the input using whatever operations I specify, and then it **returns** values computed as outputs.  By default, a function in Julia will return the last expression computed by that function as its **output** (we'll make this more general in a moment). This is a fairly easy function to evaluate, and I can see that for x = 10, this function should give me the result that y = 25.  Let's try it in the cell below.  I would do so just by passing the argument x = 10 to my function y(x). \n",
    "\n",
    "    y(10)\n",
    "    \n",
    "Note that sending arguments to a function uses (), which is different from using [] to index elements of an array."
   ]
  },
  {
   "cell_type": "code",
   "execution_count": null,
   "metadata": {},
   "outputs": [],
   "source": []
  },
  {
   "cell_type": "markdown",
   "metadata": {},
   "source": [
    "Before we move on, I'll introduce the **return** keyword.  If you enter **return** in the body of a function, it will end the function evaluation immediately and return whichever variables you request.  You can use either **return** or rely on the default behavior of returning the last value computed. Return is a bit more wordy, but perhaps more intuitive, particularly for returning multiple computed values. \n",
    "\n",
    "    function y1(x)\n",
    "        result1 = 2*x + 5      \n",
    "        return result1\n",
    "    end"
   ]
  },
  {
   "cell_type": "code",
   "execution_count": null,
   "metadata": {},
   "outputs": [],
   "source": []
  },
  {
   "cell_type": "markdown",
   "metadata": {},
   "source": [
    "Frequently, you'll want to store the result of that function in a new variable.  I would do this just as I would when defining a number:\n",
    "\n",
    "    output = y(10)\n",
    "\n",
    "Which will store a new variable called \"output\" to the workspace (type *varinfo()* to confirm).  It will have a value of 25."
   ]
  },
  {
   "cell_type": "code",
   "execution_count": null,
   "metadata": {},
   "outputs": [],
   "source": []
  },
  {
   "cell_type": "markdown",
   "metadata": {},
   "source": [
    "This extends to multiple outputs, for example:\n",
    "\n",
    "    output1 = y1(10)\n",
    "    \n",
    "Will create a tuple called output1 that has the values (25,10).  Alternatively:\n",
    "\n",
    "    output2, output3 = y1(10)\n",
    "    \n",
    "Will assign the first and second outputs of y1(10) to new variables output1 and output2."
   ]
  },
  {
   "cell_type": "code",
   "execution_count": null,
   "metadata": {},
   "outputs": [],
   "source": []
  },
  {
   "cell_type": "markdown",
   "metadata": {},
   "source": [
    "**A Useful shorthand**\n",
    "\n",
    "We write functions very often, and you can see that the long form syntax above is just a little clumsy (though for complicated functions, I prefer the long format).  For simple functions, Julia has a nice bit of syntactic sugar in that it allows you to write functions much as you would by hand.  For example, we could rewrite our first function:\n",
    "\n",
    "    function y(x)\n",
    "        2*x+5\n",
    "    end\n",
    "    \n",
    "as:\n",
    "\n",
    "    y3(x) = 2*x+5\n",
    "    \n",
    "You would use that just as we did above.  In general, this works best for simple functions, but we write a lot of those, so this syntax is incredibly handy."
   ]
  },
  {
   "cell_type": "code",
   "execution_count": null,
   "metadata": {},
   "outputs": [],
   "source": []
  },
  {
   "cell_type": "markdown",
   "metadata": {},
   "source": [
    "**Anonymous functions**\n",
    "\n",
    "It is worth also introducing anonymous functions. The unique thing about anonymous functions is that they can be written without declaring a function name (hence the designation \"anonymous\"). They are useful for provding simple functions as inputs to other functions.In general, anonymous function definitions are best suited to simple functions, of which the above qualifies. I can write y(x) using an anonymous function syntax as shown below:\n",
    "\n",
    "    x -> 2*x+5\n",
    "   \n",
    "That would generally be useful if I wanted to provide that as an input to something else.  Here, I really do kind of want to assign it a name so that I can use it in the present example.  Just because anonymous functions can be written without giving them a name, it doesn't mean that they have to.  So, let's write y4 using the anonymous function syntax:\n",
    "\n",
    "    y4 = x -> 2*x+5\n",
    "\n",
    "And I use it just as above:\n",
    "\n",
    "    y4(10)\n",
    "\n",
    "Because inline functions are generally written as one liners, they are best suited to simple functions of one or two variables, but they can be extremely useful as we'll see later in the course."
   ]
  },
  {
   "cell_type": "code",
   "execution_count": null,
   "metadata": {},
   "outputs": [],
   "source": []
  },
  {
   "cell_type": "markdown",
   "metadata": {},
   "source": [
    "**Multivariate functions**\n",
    "\n",
    "We definitely need to learn how to create a function that takes more than one input.  For example, we can define the following *multivariate* scalar function. We call it multivariate because it has multiple arguments (x,y), but it is scalar because it returns a single value of p for any (x,y) pair.\n",
    "\n",
    "$$p(x,y) = x^2 + y^2 + 10$$\n",
    "\n",
    "We can write it using conventional syntax:\n",
    "\n",
    "    function p1(x,y)\n",
    "         return x^2 + y^2 + 10\n",
    "    end\n",
    "\n",
    "Using Julia shorthand:\n",
    "\n",
    "    p2(x,y) = x^2 + y^2 + 10\n",
    "    \n",
    "Or using anonymous function syntax:\n",
    "    \n",
    "    p3 = (x,y) -> (x^2 + y^2 + 10)\n",
    "\n",
    "In each case, the usage is the same, e.g., to find the value of p at (x,y) = (10,10):\n",
    "\n",
    "    p1(10,10)\n",
    "    p2(10,10)\n",
    "    p3(10,10)\n",
    "\n",
    "Functionally, these are all the same. Generally, we'll use whichever we prefer, though some methods are better suited to specific problems than others.  We'll cover those as the examples come up."
   ]
  },
  {
   "cell_type": "code",
   "execution_count": null,
   "metadata": {},
   "outputs": [],
   "source": []
  },
  {
   "cell_type": "markdown",
   "metadata": {},
   "source": [
    "**Vectorizing functions (and introducing ranges)**\n",
    "\n",
    "Frequently, it will be of interest to pass sets of inputs instead of single values. For example, let's say I wanted to evaluate our function p1(x,y) for two 10 element sets of x and y values. x will be all of the integers from 1 to 10, and y will be all of the even integers between 2 and 20.  There are a number of ways we can do this.  The most straightforward way would be to write them all out in an array, e.g., \n",
    "\n",
    "    xvals = [1,2,3,4,5,6,7,8,9,10]\n",
    "    \n",
    "But that is tedious for large sets. When we have a range we want to cover, we'll typical use either the : operator, or we'll use the range function.  These will generate what is called a Range, which can stand in pretty well for a 1D array in most cases.  For our examples above, we would use:\n",
    "\n",
    "    xvals = range(1, stop = 10, step = 1) #Run ?range for more options.\n",
    "\n",
    "and using the : operator to create y\n",
    "\n",
    "    yvals = 2:2:20     #This has the format start:step:stop"
   ]
  },
  {
   "cell_type": "code",
   "execution_count": null,
   "metadata": {},
   "outputs": [],
   "source": []
  },
  {
   "cell_type": "markdown",
   "metadata": {},
   "source": [
    "These aren't true 1D arrays, they are ranges. Quite often, ranges will suffice for what we'll use them for, and you don't need to write out the full array.  However, if you wanted to convert them into an array, the easiest ways are probably using the Vector() or collect() functions.\n",
    "\n",
    "    xvals = Vector(xvals)\n",
    "    yvals = collect(yvals)"
   ]
  },
  {
   "cell_type": "code",
   "execution_count": null,
   "metadata": {},
   "outputs": [],
   "source": []
  },
  {
   "cell_type": "markdown",
   "metadata": {},
   "source": [
    "**Vectorizing the function**\n",
    "\n",
    "Now, here' the tricky bit:  as we've written p1(x,y), it will only accept scalar values of x and y, not arrays.  If I try to pass those vector arrays directly to p1, I will get an error. Give it a try; it will say something about no method matching...\n",
    "\n",
    "    p1(xvals,yvals)"
   ]
  },
  {
   "cell_type": "code",
   "execution_count": null,
   "metadata": {},
   "outputs": [],
   "source": []
  },
  {
   "cell_type": "markdown",
   "metadata": {},
   "source": [
    "To understand that error, we need to take a look at our function. Inside, it is trying to square x and y.  We have passed a set of values for x and y naively, and when they hit this line of code, it tries to square them as $xx$ and $yy$, i.e., matrix products.  These fail because the dimensions are incorrect...and it's actually not what we want to do anyway.  What we really want is for these operations to be performed elementwise on every component of x and y.  To do that, we need to make sure that our function can handle these element-wise operations.  If you're familiar with Matlab, you probably already know this technique:  you place a \".\" before every operator you want to work element-by-element.  We need to add that inside of our function so that it can handle arrays of values for x and y:\n",
    "\n",
    "    function p4(x,y)\n",
    "        x.^2 + y.^2 .+ 10\n",
    "    end\n",
    "    p4(xvals,yvals)\n",
    "    \n",
    "In this format, our function is now \"vectorized.\"  It can now accept vector arguments, and, if I pass it vector arguments (of the same size), it will return a vector output.  Notice - if we were in Matlab, we could add the number 10 to a column vector as it would perform an element-wise operation by default.  Not so in Julia. We need to add a . in front of + 10 as well."
   ]
  },
  {
   "cell_type": "code",
   "execution_count": null,
   "metadata": {},
   "outputs": [],
   "source": []
  },
  {
   "cell_type": "markdown",
   "metadata": {},
   "source": [
    "**Broadcasting**\n",
    "\n",
    "Julia has another useful trick called broadcasting - it is basically taking the element-wise operator we are already familiar with (.), and making it much more general.  For example, you can use it to \"broadcast\" any function to every value in an array.  For example, we have not vectorized p1 yet (see above).  You know that the following will cause and error:\n",
    "\n",
    "    p1(x,y)\n",
    "    \n",
    "If, insteady, you write:\n",
    "\n",
    "    p1.(x,y)\n",
    "    \n",
    "It will run just fine!  Julia will just apply your function in an element-by-element fashion to the arrays.  You have to use this frequently in Julia for all sorts of functions like log() and exp().  "
   ]
  },
  {
   "cell_type": "code",
   "execution_count": null,
   "metadata": {},
   "outputs": [],
   "source": []
  },
  {
   "cell_type": "markdown",
   "metadata": {},
   "source": [
    "**Multivariate Vector Functions**\n",
    "\n",
    "The above are all fine examples of functions, but I want everyone to learn to think more abstractly about what functions are and what they can do, so we need to break the habit of always thinking that by \"function\" we mean some sort of \"polynomial\" as in the examples above.  \n",
    "\n",
    "The general definition, again, is that functions are code modules that take inputs and use those inputs to generate and return outputs. They can be very large and complex, they can take many inputs, they can do lots of different operations, and they can return many outputs.\n",
    "\n",
    "So let's try something more complex - we will create a *multivariate vector* function called **f** that takes inputs x, y, and z; uses those inputs to calculate the corresponding values of A, B, and C; and returns A, B, and C as outputs. We call this a multivariate function because it has multiple arguments (x, y, and z), and we call it a vector function because it returns 3 separate outputs (A, B, and C) in an array. \n",
    "\n",
    "    function f(x, y, z)\n",
    "        A = x + y\n",
    "        B = A*5\n",
    "        C = z^3 + B\n",
    "        return (A, B, C)\n",
    "    end"
   ]
  },
  {
   "cell_type": "code",
   "execution_count": null,
   "metadata": {},
   "outputs": [],
   "source": []
  },
  {
   "cell_type": "markdown",
   "metadata": {},
   "source": [
    "Now that I've defined the function, I can use it to calculate A, B, and C for x = 1, y = 2, and z = 3.  \n",
    "\n",
    "    f(1, 2, 3)\n",
    "\n",
    "Try this example in the cell below for x, y, z = 1, 2, 3; it should return three numbers, the last of which is, by pure serendipity, the answer to the ultimate question of life, the universe, and everything. Confirm that you are getting the correct result!"
   ]
  },
  {
   "cell_type": "code",
   "execution_count": null,
   "metadata": {},
   "outputs": [],
   "source": []
  }
 ],
 "metadata": {
  "kernelspec": {
   "display_name": "Julia 1.5.3",
   "language": "julia",
   "name": "julia-1.5"
  },
  "language_info": {
   "file_extension": ".jl",
   "mimetype": "application/julia",
   "name": "julia",
   "version": "1.5.3"
  }
 },
 "nbformat": 4,
 "nbformat_minor": 4
}

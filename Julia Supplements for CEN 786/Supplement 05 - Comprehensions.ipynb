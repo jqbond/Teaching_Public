{
 "cells": [
  {
   "cell_type": "markdown",
   "metadata": {},
   "source": [
    "<span style=\"font-family:Times New Roman; font-size:2.0em;\">**Comprehensions**</span>\n",
    "\n",
    "Now that we have a basic understanding of for loops, let's get a look at comprehensions.  Basically, these are shorthand for loops that are useful for performing relatively simple operations on a range of numbers or a set of values inside of an existing array.\n",
    "\n",
    "For example, let's say I need a list of the squares of all of the numbers between 1 and 745.  That's hard to do manually. It is even cumbersome in something like Excel. Traditionally, we'd probably write out a for loop to do this. A  comprehension provides a shorthand syntax that  automates a **for loop** to generate an array from a desired operation in a single, simple line of code.  For our example above, in Python, I might write a loop that looks something like this using the append function for a list:\n",
    "\n",
    "    squares = []\n",
    "    for number in 1:1:745\n",
    "        square = number^2\n",
    "        append!(squares, square)\n",
    "    end\n",
    "    print(size(squares))\n",
    "    squares\n",
    "\n",
    "In Matlab, I might write something like this where I append new values onto a growing array by concatenating rows.\n",
    "\n",
    "    squares = []\n",
    "    for number in 1:1:745\n",
    "        square = number^2\n",
    "        squares = [squares; square]\n",
    "    end\n",
    "    print(size(squares))\n",
    "    squares\n",
    "\n",
    "\n",
    "Alternatively, in Julia or Python, I can condense that quite a bit using a comprehension.  The code below is pretty much identical to what I have above, it's just much more concise and readable.\n",
    "\n",
    "    squares = [number^2 for number in 1:745]\n",
    "    print(size(squares)\n",
    "    squares"
   ]
  },
  {
   "cell_type": "code",
   "execution_count": null,
   "metadata": {},
   "outputs": [],
   "source": []
  },
  {
   "cell_type": "markdown",
   "metadata": {},
   "source": [
    "Comprehensions are extremely useful; they can quickly generate large arrays by automating any simple operation on a range.  Create and print the arrays below to see the outputs they create and get a feel for how comprehensions work:\n",
    "\n",
    "    K = [n for n in range(0, stop = 31)]\n",
    "    L = [x for x in range(0, stop = 31, step = 2)]\n",
    "    M = [p^3 for p in 0:5:31]\n",
    "    N = [2, 14, 64, 212, 123.6, 4.57 + 3im]\n",
    "    O = [j^2 for j in N]\n",
    "    \n",
    "In the last example, notice how we used an existing list to create the iterable that the list comprehension iterates over.  This is totally acceptable - it is a nice way to perform a simple operation on the values in one list to convert it into something else entirely."
   ]
  },
  {
   "cell_type": "code",
   "execution_count": null,
   "metadata": {},
   "outputs": [],
   "source": []
  }
 ],
 "metadata": {
  "kernelspec": {
   "display_name": "Julia 1.5.3",
   "language": "julia",
   "name": "julia-1.5"
  },
  "language_info": {
   "file_extension": ".jl",
   "mimetype": "application/julia",
   "name": "julia",
   "version": "1.5.3"
  }
 },
 "nbformat": 4,
 "nbformat_minor": 4
}

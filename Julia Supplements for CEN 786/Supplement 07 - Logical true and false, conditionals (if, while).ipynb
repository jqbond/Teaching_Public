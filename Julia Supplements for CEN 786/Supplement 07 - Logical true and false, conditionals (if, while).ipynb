{
 "cells": [
  {
   "cell_type": "markdown",
   "metadata": {},
   "source": [
    "# Logic, Comparisons, and Conditional Statements\n",
    "\n",
    "One of the most important things we need to know how to do in processing various types of data is to make various logical comparisons, basically testing for whether a number, a string, a set, etc., satisfy some criteria that we want. To do that, we make various tests to determine whether our criteria are true or false.\n",
    "\n",
    "First, we need to understand a bit more about Boolean values.  A boolean is a binary value that is either true or false. Booleans can be represented in Julia e with the words:\n",
    "\n",
    "    true\n",
    "    false\n",
    "    \n",
    "Commonly, this binary state is represented as a 1 for true and a 0 for false."
   ]
  },
  {
   "cell_type": "code",
   "execution_count": null,
   "metadata": {},
   "outputs": [],
   "source": []
  },
  {
   "cell_type": "markdown",
   "metadata": {},
   "source": [
    "We test the truth of a statement using a comparison operator.  These are familar concepts to everyone:\n",
    "\n",
    "* Greater Than\n",
    "* Less Than\n",
    "* Equal To\n",
    "* Greater Than or Equal To\n",
    "* Less Than or Equal To\n",
    "* Not Equal To\n",
    "\n",
    "In Julia, these are expressed as:\n",
    "\n",
    "    >        #Greater Than\n",
    "    <        #Less Than\n",
    "    ==       #Equal To\n",
    "    >=       #Greater Than or Equal To\n",
    "    <=       #Less than or Equal To\n",
    "    !=       #Not Equal To\n",
    "    \n",
    "We use those comparison operators to test whether a condition is true or not.  These can be applied to scalars or lists in an almost infinite number of ways, but here are a few examples to try out and see what True (1) or False (0) values they return.\n",
    "\n",
    "    println(10 > 5)\n",
    "    println(5  > 10)\n",
    "    println(10 == 10)\n",
    "    println(10 != 15)"
   ]
  },
  {
   "cell_type": "code",
   "execution_count": null,
   "metadata": {},
   "outputs": [],
   "source": []
  },
  {
   "cell_type": "markdown",
   "metadata": {},
   "source": [
    "Frequently, we have more than one criteria that we would like to test in order to determine if a condition is true or not. We can do this in a couple of ways. Julia supports usage of logical operator for **and** (&&), **or** (||).  For example:\n",
    "\n",
    "    println(10 > 5  && 10 < 25)\n",
    "    println(10 > 15 && 10 < 25)\n",
    "    println(10 > 15 ||  10 < 25)\n",
    "    println(10 > 15 ||  29 < 25)\n",
    "    \n",
    "Note: this are \"short circuit\" operators.  With &&, the second statement will only be evaluated if the first one is true, and with ||, the second statement will only be evaluated if the first one is false."
   ]
  },
  {
   "cell_type": "code",
   "execution_count": null,
   "metadata": {},
   "outputs": [],
   "source": []
  },
  {
   "cell_type": "markdown",
   "metadata": {},
   "source": [
    "Be on the lookout for methods or functions that execute different types of common logical tests on sets or numbers.  For example:\n",
    "\n",
    "    any()\n",
    "\n",
    "Will check to determine if any element in a set is true, whereas:\n",
    "\n",
    "    all()\n",
    "    \n",
    "Will determine whether all elements of a set are true.\n"
   ]
  },
  {
   "cell_type": "code",
   "execution_count": null,
   "metadata": {},
   "outputs": [],
   "source": []
  },
  {
   "cell_type": "markdown",
   "metadata": {},
   "source": [
    "These tests for truth become extremely useful in controlling the flow of your program.  Basically, we want tools that say \"execute this code when a certain thing is true; otherwise, do something else.\"\n",
    "\n",
    "We do that with if and while statements, which are two different types of conditional statements.\n",
    "\n",
    "An **if** statement will only evaluate the code inside if the condition(s) specified in that if statement are true.\n",
    "\n",
    "A **while** statement creates a loop that will evaluate cyclically as long as the conditions specified in the while statement is true.  While loops are covered in detail in assignment 06.\n",
    "\n",
    "In general, both types of statements will use one or more of the types of tests we discussed above, so in practice they will look like:\n",
    "\n",
    "    using Printf\n",
    "    x = 0\n",
    "    while x < 20\n",
    "        if x < 10\n",
    "            @printf(\"x is less than 10, it is %d\\n\", x)\n",
    "        elseif x >= 10 & x < 20\n",
    "            @printf(\"x is between 10 and 20, it is %d\\n\", x)\n",
    "        end\n",
    "        x += 1;\n",
    "    end"
   ]
  },
  {
   "cell_type": "code",
   "execution_count": null,
   "metadata": {},
   "outputs": [],
   "source": []
  },
  {
   "cell_type": "markdown",
   "metadata": {},
   "source": [
    "Or try this example:\n",
    "\n",
    "    A = 100\n",
    "    if 5 < A && A < 35\n",
    "        @printf(\"A is between 5 and 35 for sure!\")\n",
    "    elseif 35 < A && A < 70\n",
    "        @printf(\"A is between 35 and 70!\")\n",
    "    else\n",
    "        @printf(\"A is higher than I can count\")\n",
    "    end"
   ]
  },
  {
   "cell_type": "code",
   "execution_count": null,
   "metadata": {},
   "outputs": [],
   "source": []
  },
  {
   "cell_type": "markdown",
   "metadata": {},
   "source": [
    "These logical tests become extremely powerful when processing large data sets.  For example, lets' just generate a set of 1000 random integers.  I am using a plot for visualization.\n",
    "\n",
    "    using Plots\n",
    "    A = rand(-100:0.1:100,(1000,))\n",
    "    scatter(A, legend = nothing)"
   ]
  },
  {
   "cell_type": "code",
   "execution_count": null,
   "metadata": {},
   "outputs": [],
   "source": []
  },
  {
   "cell_type": "markdown",
   "metadata": {},
   "source": [
    "So let's pretend that data has just been handed off to us, and we didn't have flexibility in specifying its range when it was created.  Let's say that we are only interested in the values between 0 and 25.  We can easily extract a subset of those numbers in a variety of ways using logical tests.\n",
    "\n",
    "A for loop:\n",
    "\n",
    "    B = [];\n",
    "    for value in A\n",
    "        if (value >= 0) && (value <= 25)  \n",
    "            B = [B;value]; #This stacks the current value of A below the current vector of B's.\n",
    "        end\n",
    "    end\n",
    "    println(maximum(B))\n",
    "    println(minimum(B))\n",
    "    scatter(B)"
   ]
  },
  {
   "cell_type": "code",
   "execution_count": null,
   "metadata": {},
   "outputs": [],
   "source": []
  },
  {
   "cell_type": "markdown",
   "metadata": {},
   "source": [
    "Better still, you can use a logical operation to extract the indices where the condition is true.  Either of the following will work\n",
    "\n",
    "    index = (A .> 0) .& (A .< 25)\n",
    "    index = 0 .<= A .<= 25\n",
    "\n",
    "This returns a logical array of 1's (true) and 0's (false).  You can then use this index to extract only the elements in A that meet your criteria:\n",
    "\n",
    "    B = A[index];\n",
    "    println(maximum(B))\n",
    "    println(minimum(B))\n",
    "    scatter(B, legend = nothing)\n",
    "    \n",
    "Study this example well - I use this technique very frequently in all programming languages.  It is incredibly useful for filtering data.\n"
   ]
  },
  {
   "cell_type": "code",
   "execution_count": null,
   "metadata": {},
   "outputs": [],
   "source": []
  }
 ],
 "metadata": {
  "kernelspec": {
   "display_name": "Julia 1.5.3",
   "language": "julia",
   "name": "julia-1.5"
  },
  "language_info": {
   "file_extension": ".jl",
   "mimetype": "application/julia",
   "name": "julia",
   "version": "1.5.3"
  }
 },
 "nbformat": 4,
 "nbformat_minor": 4
}
